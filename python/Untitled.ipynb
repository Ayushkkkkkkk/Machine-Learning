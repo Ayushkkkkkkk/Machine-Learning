{
 "cells": [
  {
   "cell_type": "markdown",
   "id": "22f2d421",
   "metadata": {},
   "source": [
    "# OOPS"
   ]
  },
  {
   "cell_type": "code",
   "execution_count": 14,
   "id": "0fc7f4a0",
   "metadata": {},
   "outputs": [],
   "source": [
    "class Car:\n",
    "    def __init__(self ,windows , door , engine):\n",
    "        self.windows = windows\n",
    "        self.door = door\n",
    "        self.engine = engine\n",
    "    def self_driving(self):\n",
    "        return f\"this is a {self.engine} car\"\n",
    "        "
   ]
  },
  {
   "cell_type": "code",
   "execution_count": 15,
   "id": "20e519a5",
   "metadata": {},
   "outputs": [],
   "source": [
    "car1 = Car(4 , 5 , \"electric\")"
   ]
  },
  {
   "cell_type": "code",
   "execution_count": 16,
   "id": "95fcddcb",
   "metadata": {},
   "outputs": [
    {
     "data": {
      "text/plain": [
       "'this is a electric car'"
      ]
     },
     "execution_count": 16,
     "metadata": {},
     "output_type": "execute_result"
    }
   ],
   "source": [
    "car1.self_driving()"
   ]
  },
  {
   "cell_type": "markdown",
   "id": "6472c9cd",
   "metadata": {},
   "source": [
    "# Event Handeling"
   ]
  },
  {
   "cell_type": "code",
   "execution_count": 18,
   "id": "f629ce4d",
   "metadata": {},
   "outputs": [
    {
     "name": "stdout",
     "output_type": "stream",
     "text": [
      "name 'data' is not defined\n"
     ]
    }
   ],
   "source": [
    "try:\n",
    "    a = data\n",
    "except Exception as es:\n",
    "    print(es)"
   ]
  },
  {
   "cell_type": "markdown",
   "id": "41a1942c",
   "metadata": {},
   "source": [
    "# Custom exception"
   ]
  },
  {
   "cell_type": "code",
   "execution_count": 24,
   "id": "2ec33d9f",
   "metadata": {},
   "outputs": [],
   "source": [
    "class Error(Exception):\n",
    "    pass\n",
    "\n",
    "class dobException(Error):\n",
    "    pass\n",
    "\n",
    "class customgeneric(Error):\n",
    "    pass"
   ]
  },
  {
   "cell_type": "code",
   "execution_count": 25,
   "id": "bb5243b2",
   "metadata": {},
   "outputs": [
    {
     "name": "stdout",
     "output_type": "stream",
     "text": [
      "Enter the year of birth1991\n"
     ]
    }
   ],
   "source": [
    "year = int(input(\"Enter the year of birth\"))"
   ]
  },
  {
   "cell_type": "code",
   "execution_count": 26,
   "id": "293616c4",
   "metadata": {},
   "outputs": [],
   "source": [
    "age = 2022 - year"
   ]
  },
  {
   "cell_type": "code",
   "execution_count": 27,
   "id": "5004bc6c",
   "metadata": {},
   "outputs": [
    {
     "name": "stdout",
     "output_type": "stream",
     "text": [
      "The year age is not valid\n"
     ]
    }
   ],
   "source": [
    "try:\n",
    "    if age<=30 & age>20:\n",
    "        pass\n",
    "    else:\n",
    "        raise dobException\n",
    "except dobException:\n",
    "    print(\"The year age is not valid\")\n",
    "    "
   ]
  },
  {
   "cell_type": "markdown",
   "id": "87d44912",
   "metadata": {},
   "source": [
    "# Acess modifires"
   ]
  },
  {
   "cell_type": "code",
   "execution_count": 41,
   "id": "00de4ba3",
   "metadata": {},
   "outputs": [],
   "source": [
    "#all the access modifires are public itself\n",
    "class vehical():\n",
    "    def __init__(self, windows , doors , engine):\n",
    "        self._windows = windows\n",
    "        self._doors = doors\n",
    "        self._engine = engine\n",
    "    def drive(self):\n",
    "        print(\"Running\")"
   ]
  },
  {
   "cell_type": "code",
   "execution_count": 42,
   "id": "e8c172ed",
   "metadata": {},
   "outputs": [],
   "source": [
    "audi = vehical(4 , 5 , \"Diesel\")"
   ]
  },
  {
   "cell_type": "code",
   "execution_count": 43,
   "id": "1e503340",
   "metadata": {},
   "outputs": [],
   "source": [
    "class Truck(vehical):\n",
    "    def __init__(self ,windows , doors , engine , horsepower):\n",
    "        super().__init__(windows , doors , engine)\n",
    "        self.horsepower = horsepower"
   ]
  },
  {
   "cell_type": "markdown",
   "id": "dd757e13",
   "metadata": {},
   "source": [
    "# Inheritance"
   ]
  },
  {
   "cell_type": "code",
   "execution_count": 44,
   "id": "93bb8a04",
   "metadata": {},
   "outputs": [],
   "source": [
    "tesla = vehical(4 , 5 , \"electric\")"
   ]
  },
  {
   "cell_type": "code",
   "execution_count": 45,
   "id": "4750fa68",
   "metadata": {},
   "outputs": [],
   "source": [
    "class gtr(vehical):\n",
    "    def _init_(self, windows , doors, engine , ai):\n",
    "        super().__init__(windows , doors , engine)\n",
    "        self.ai = ai\n",
    "    def selfdriving(self):\n",
    "        print(\"Gtr supports self driving\")"
   ]
  },
  {
   "cell_type": "code",
   "execution_count": null,
   "id": "be2c7827",
   "metadata": {},
   "outputs": [],
   "source": []
  }
 ],
 "metadata": {
  "kernelspec": {
   "display_name": "Python 3 (ipykernel)",
   "language": "python",
   "name": "python3"
  },
  "language_info": {
   "codemirror_mode": {
    "name": "ipython",
    "version": 3
   },
   "file_extension": ".py",
   "mimetype": "text/x-python",
   "name": "python",
   "nbconvert_exporter": "python",
   "pygments_lexer": "ipython3",
   "version": "3.10.7"
  }
 },
 "nbformat": 4,
 "nbformat_minor": 5
}
